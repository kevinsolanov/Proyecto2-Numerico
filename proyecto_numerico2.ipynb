{
 "cells": [
  {
   "cell_type": "markdown",
   "metadata": {},
   "source": [
    "## Proyecto 2- Análisis Numérico\n",
    "\n",
    "\n",
    "#### Problema\n",
    "\n",
    "Sieder y Tate encontraron que una ecuación que relaciona la transferencia de calor\n",
    "de líquidos por dentro de tubos en cambiadores de calor se puede representar con\n",
    "números adicionales\n",
    "\n",
    "$$Nu = a (Re)^{b}(Pr)^{c}(\\frac{\\mu}{\\mu_{w}})^{d}$$"
   ]
  },
  {
   "cell_type": "code",
   "execution_count": 6,
   "metadata": {},
   "outputs": [],
   "source": [
    "\"\"\"\n",
    "Datos para hallar los exponenetes de la relacion de transferencia de calor\n",
    "Data: Nu, Re, Pr, u/u0\n",
    "\"\"\"\n",
    "import numpy as np\n",
    "\n",
    "data= np.array([97.45, 105000, 18.2, 0.85,\n",
    "                109.50, 12345, 17.1, 0.90,\n",
    "                129.90, 15220, 16.8, 0.96,\n",
    "                147.76, 18300, 15.3, 1.05,\n",
    "                153.44, 21050, 12.1, 1.08, \n",
    "                168.90, 25310, 10.1, 1.15,\n",
    "                177.16, 28560, 8.7, 1.18,\n",
    "                175.16, 31500, 6.5, 1.22]).reshape(8,4)\n",
    "\n",
    "logdata = np.log(data)\n",
    "\n",
    "b = logdata[:,0].reshape(8,1)\n",
    "\n",
    "A = np.concatenate((np.ones((8,1)), logdata[:,1:]), axis=1)\n"
   ]
  },
  {
   "cell_type": "code",
   "execution_count": 9,
   "metadata": {},
   "outputs": [
    {
     "data": {
      "text/plain": [
       "array([[ 1.        , 11.56171563,  2.90142159, -0.16251893],\n",
       "       [ 1.        ,  9.4210064 ,  2.83907846, -0.10536052],\n",
       "       [ 1.        ,  9.63036563,  2.82137889, -0.04082199],\n",
       "       [ 1.        ,  9.81465634,  2.72785283,  0.04879016],\n",
       "       [ 1.        ,  9.95465584,  2.49320545,  0.07696104],\n",
       "       [ 1.        , 10.13895485,  2.31253542,  0.13976194],\n",
       "       [ 1.        , 10.25976242,  2.16332303,  0.16551444],\n",
       "       [ 1.        , 10.35774282,  1.87180218,  0.19885086]])"
      ]
     },
     "execution_count": 9,
     "metadata": {},
     "output_type": "execute_result"
    }
   ],
   "source": []
  }
 ],
 "metadata": {
  "kernelspec": {
   "display_name": "Python 3",
   "language": "python",
   "name": "python3"
  },
  "language_info": {
   "codemirror_mode": {
    "name": "ipython",
    "version": 3
   },
   "file_extension": ".py",
   "mimetype": "text/x-python",
   "name": "python",
   "nbconvert_exporter": "python",
   "pygments_lexer": "ipython3",
   "version": "3.7.3"
  }
 },
 "nbformat": 4,
 "nbformat_minor": 2
}
